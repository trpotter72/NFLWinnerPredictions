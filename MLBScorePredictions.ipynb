{
 "cells": [
  {
   "cell_type": "markdown",
   "metadata": {},
   "source": [
    "# MLB Score Predictions (Ignore the repo name)\n",
    "\n",
    "After looking through the dataset sizes, I decided this project would be cooler if there was more data available, so I opted to go with MLB over NFL data.\n",
    "\n",
    "Here we'll be using features such as date, rating, team elo, to predict team scores for each game using regression models.\n",
    "\n",
    "MLB Data Source: https://github.com/fivethirtyeight/data/tree/master/mlb-elo"
   ]
  },
  {
   "cell_type": "markdown",
   "metadata": {},
   "source": [
    "## Loading, exploring, and cleaning the data"
   ]
  },
  {
   "cell_type": "code",
   "execution_count": 1,
   "metadata": {},
   "outputs": [
    {
     "data": {
      "text/html": [
       "<div>\n",
       "<style scoped>\n",
       "    .dataframe tbody tr th:only-of-type {\n",
       "        vertical-align: middle;\n",
       "    }\n",
       "\n",
       "    .dataframe tbody tr th {\n",
       "        vertical-align: top;\n",
       "    }\n",
       "\n",
       "    .dataframe thead th {\n",
       "        text-align: right;\n",
       "    }\n",
       "</style>\n",
       "<table border=\"1\" class=\"dataframe\">\n",
       "  <thead>\n",
       "    <tr style=\"text-align: right;\">\n",
       "      <th></th>\n",
       "      <th>date</th>\n",
       "      <th>season</th>\n",
       "      <th>neutral</th>\n",
       "      <th>playoff</th>\n",
       "      <th>team1</th>\n",
       "      <th>team2</th>\n",
       "      <th>elo1_pre</th>\n",
       "      <th>elo2_pre</th>\n",
       "      <th>elo_prob1</th>\n",
       "      <th>elo_prob2</th>\n",
       "      <th>...</th>\n",
       "      <th>pitcher1_rgs</th>\n",
       "      <th>pitcher2_rgs</th>\n",
       "      <th>pitcher1_adj</th>\n",
       "      <th>pitcher2_adj</th>\n",
       "      <th>rating_prob1</th>\n",
       "      <th>rating_prob2</th>\n",
       "      <th>rating1_post</th>\n",
       "      <th>rating2_post</th>\n",
       "      <th>score1</th>\n",
       "      <th>score2</th>\n",
       "    </tr>\n",
       "  </thead>\n",
       "  <tbody>\n",
       "    <tr>\n",
       "      <td>0</td>\n",
       "      <td>2019-10-30</td>\n",
       "      <td>2019</td>\n",
       "      <td>0</td>\n",
       "      <td>w</td>\n",
       "      <td>HOU</td>\n",
       "      <td>WSN</td>\n",
       "      <td>1599.542804</td>\n",
       "      <td>1584.363378</td>\n",
       "      <td>0.574617</td>\n",
       "      <td>0.425383</td>\n",
       "      <td>...</td>\n",
       "      <td>56.920649</td>\n",
       "      <td>61.723620</td>\n",
       "      <td>0.989236</td>\n",
       "      <td>27.776342</td>\n",
       "      <td>0.515172</td>\n",
       "      <td>0.484828</td>\n",
       "      <td>1587.973463</td>\n",
       "      <td>1583.382133</td>\n",
       "      <td>2</td>\n",
       "      <td>6</td>\n",
       "    </tr>\n",
       "    <tr>\n",
       "      <td>1</td>\n",
       "      <td>2019-10-29</td>\n",
       "      <td>2019</td>\n",
       "      <td>0</td>\n",
       "      <td>w</td>\n",
       "      <td>HOU</td>\n",
       "      <td>WSN</td>\n",
       "      <td>1605.069000</td>\n",
       "      <td>1578.837182</td>\n",
       "      <td>0.595209</td>\n",
       "      <td>0.404791</td>\n",
       "      <td>...</td>\n",
       "      <td>62.975093</td>\n",
       "      <td>60.272516</td>\n",
       "      <td>28.723451</td>\n",
       "      <td>21.776276</td>\n",
       "      <td>0.594638</td>\n",
       "      <td>0.405362</td>\n",
       "      <td>1591.026009</td>\n",
       "      <td>1580.329587</td>\n",
       "      <td>2</td>\n",
       "      <td>7</td>\n",
       "    </tr>\n",
       "    <tr>\n",
       "      <td>2</td>\n",
       "      <td>2019-10-27</td>\n",
       "      <td>2019</td>\n",
       "      <td>0</td>\n",
       "      <td>w</td>\n",
       "      <td>WSN</td>\n",
       "      <td>HOU</td>\n",
       "      <td>1584.005206</td>\n",
       "      <td>1599.900976</td>\n",
       "      <td>0.515546</td>\n",
       "      <td>0.484454</td>\n",
       "      <td>...</td>\n",
       "      <td>49.433198</td>\n",
       "      <td>66.891460</td>\n",
       "      <td>-29.811205</td>\n",
       "      <td>47.888341</td>\n",
       "      <td>0.373102</td>\n",
       "      <td>0.626898</td>\n",
       "      <td>1576.189971</td>\n",
       "      <td>1595.165625</td>\n",
       "      <td>1</td>\n",
       "      <td>7</td>\n",
       "    </tr>\n",
       "    <tr>\n",
       "      <td>3</td>\n",
       "      <td>2019-10-26</td>\n",
       "      <td>2019</td>\n",
       "      <td>0</td>\n",
       "      <td>w</td>\n",
       "      <td>WSN</td>\n",
       "      <td>HOU</td>\n",
       "      <td>1589.985555</td>\n",
       "      <td>1593.920627</td>\n",
       "      <td>0.538425</td>\n",
       "      <td>0.461575</td>\n",
       "      <td>...</td>\n",
       "      <td>56.003581</td>\n",
       "      <td>51.251046</td>\n",
       "      <td>0.823752</td>\n",
       "      <td>-24.893480</td>\n",
       "      <td>0.586974</td>\n",
       "      <td>0.413026</td>\n",
       "      <td>1578.722119</td>\n",
       "      <td>1592.633477</td>\n",
       "      <td>1</td>\n",
       "      <td>8</td>\n",
       "    </tr>\n",
       "    <tr>\n",
       "      <td>4</td>\n",
       "      <td>2019-10-25</td>\n",
       "      <td>2019</td>\n",
       "      <td>0</td>\n",
       "      <td>w</td>\n",
       "      <td>WSN</td>\n",
       "      <td>HOU</td>\n",
       "      <td>1593.827376</td>\n",
       "      <td>1590.078806</td>\n",
       "      <td>0.553044</td>\n",
       "      <td>0.446956</td>\n",
       "      <td>...</td>\n",
       "      <td>54.036365</td>\n",
       "      <td>57.096801</td>\n",
       "      <td>-9.053908</td>\n",
       "      <td>2.440389</td>\n",
       "      <td>0.526852</td>\n",
       "      <td>0.473148</td>\n",
       "      <td>1583.715416</td>\n",
       "      <td>1587.640180</td>\n",
       "      <td>1</td>\n",
       "      <td>4</td>\n",
       "    </tr>\n",
       "  </tbody>\n",
       "</table>\n",
       "<p>5 rows × 26 columns</p>\n",
       "</div>"
      ],
      "text/plain": [
       "         date  season  neutral playoff team1 team2     elo1_pre     elo2_pre  \\\n",
       "0  2019-10-30    2019        0       w   HOU   WSN  1599.542804  1584.363378   \n",
       "1  2019-10-29    2019        0       w   HOU   WSN  1605.069000  1578.837182   \n",
       "2  2019-10-27    2019        0       w   WSN   HOU  1584.005206  1599.900976   \n",
       "3  2019-10-26    2019        0       w   WSN   HOU  1589.985555  1593.920627   \n",
       "4  2019-10-25    2019        0       w   WSN   HOU  1593.827376  1590.078806   \n",
       "\n",
       "   elo_prob1  elo_prob2  ...  pitcher1_rgs  pitcher2_rgs  pitcher1_adj  \\\n",
       "0   0.574617   0.425383  ...     56.920649     61.723620      0.989236   \n",
       "1   0.595209   0.404791  ...     62.975093     60.272516     28.723451   \n",
       "2   0.515546   0.484454  ...     49.433198     66.891460    -29.811205   \n",
       "3   0.538425   0.461575  ...     56.003581     51.251046      0.823752   \n",
       "4   0.553044   0.446956  ...     54.036365     57.096801     -9.053908   \n",
       "\n",
       "   pitcher2_adj rating_prob1 rating_prob2  rating1_post  rating2_post  score1  \\\n",
       "0     27.776342     0.515172     0.484828   1587.973463   1583.382133       2   \n",
       "1     21.776276     0.594638     0.405362   1591.026009   1580.329587       2   \n",
       "2     47.888341     0.373102     0.626898   1576.189971   1595.165625       1   \n",
       "3    -24.893480     0.586974     0.413026   1578.722119   1592.633477       1   \n",
       "4      2.440389     0.526852     0.473148   1583.715416   1587.640180       1   \n",
       "\n",
       "   score2  \n",
       "0       6  \n",
       "1       7  \n",
       "2       7  \n",
       "3       8  \n",
       "4       4  \n",
       "\n",
       "[5 rows x 26 columns]"
      ]
     },
     "execution_count": 1,
     "metadata": {},
     "output_type": "execute_result"
    }
   ],
   "source": [
    "import pandas as pd\n",
    "import matplotlib.pyplot as plt\n",
    "import datetime as dt\n",
    "import numpy as np\n",
    "from sklearn.model_selection import train_test_split\n",
    "from sklearn.metrics import r2_score\n",
    "from sklearn.linear_model import LinearRegression\n",
    "from sklearn.ensemble import RandomForestRegressor, GradientBoostingRegressor\n",
    "from sklearn.neural_network import MLPRegressor\n",
    "\n",
    "raw_data = pd.read_csv(\"./data/mlb_elo.csv\")\n",
    "raw_data.head()"
   ]
  },
  {
   "cell_type": "code",
   "execution_count": 2,
   "metadata": {},
   "outputs": [],
   "source": [
    "raw_data = raw_data.dropna()"
   ]
  },
  {
   "cell_type": "code",
   "execution_count": 3,
   "metadata": {},
   "outputs": [
    {
     "data": {
      "text/plain": [
       "<matplotlib.axes._subplots.AxesSubplot at 0x2b4354946c8>"
      ]
     },
     "execution_count": 3,
     "metadata": {},
     "output_type": "execute_result"
    },
    {
     "data": {
      "image/png": "[encoded data removed]",
      "text/plain": [
       "<Figure size 432x288 with 1 Axes>"
      ]
     },
     "metadata": {
      "needs_background": "light"
     },
     "output_type": "display_data"
    }
   ],
   "source": [
    "raw_data['date']=pd.to_datetime(raw_data['date'], infer_datetime_format = True).map(lambda t : dt.datetime.toordinal(t))\n",
    "raw_data.head()\n",
    "raw_data.plot.scatter(x=\"score2\",y=\"score1\")"
   ]
  },
  {
   "cell_type": "markdown",
   "metadata": {},
   "source": [
    "^Interestingly, we have huge point value games. 30+ for both teams."
   ]
  },
  {
   "cell_type": "code",
   "execution_count": 4,
   "metadata": {},
   "outputs": [
    {
     "data": {
      "image/png": "[encoded data removed]",
      "text/plain": [
       "<Figure size 1080x216 with 2 Axes>"
      ]
     },
     "metadata": {
      "needs_background": "light"
     },
     "output_type": "display_data"
    }
   ],
   "source": [
    "plt.figure(figsize=(15,3))\n",
    "raw_data.plot(x=\"date\",y=\"score1\", ax = plt.subplot(121))\n",
    "plt.xticks(rotation=45)\n",
    "raw_data.plot(x=\"date\",y=\"score2\", ax = plt.subplot(122), c='red')\n",
    "plt.xticks(rotation=45)\n",
    "plt.show()\n",
    "#Nothing too interesting about max score data over time (slightly larger max scores in old games)"
   ]
  },
  {
   "cell_type": "code",
   "execution_count": 5,
   "metadata": {},
   "outputs": [
    {
     "data": {
      "image/png": "[encoded data removed]",
      "text/plain": [
       "<Figure size 1080x216 with 2 Axes>"
      ]
     },
     "metadata": {
      "needs_background": "light"
     },
     "output_type": "display_data"
    }
   ],
   "source": [
    "plt.figure(figsize=(15,3))\n",
    "raw_data.plot.scatter(x=\"pitcher1_rgs\",y=\"score2\", s =.5, ax = plt.subplot(121))\n",
    "plt.xticks(rotation=45)\n",
    "raw_data.plot.scatter(x=\"pitcher2_rgs\",y=\"score1\", s =.5, ax = plt.subplot(122), c='red')\n",
    "plt.xticks(rotation=45)\n",
    "plt.show()\n",
    "#This would look better as a heat map"
   ]
  },
  {
   "cell_type": "code",
   "execution_count": 6,
   "metadata": {},
   "outputs": [
    {
     "data": {
      "image/png": "[encoded data removed]",
      "text/plain": [
       "<Figure size 1080x216 with 1 Axes>"
      ]
     },
     "metadata": {
      "needs_background": "light"
     },
     "output_type": "display_data"
    },
    {
     "data": {
      "image/png": "[encoded data removed]",
      "text/plain": [
       "<Figure size 1080x216 with 1 Axes>"
      ]
     },
     "metadata": {
      "needs_background": "light"
     },
     "output_type": "display_data"
    }
   ],
   "source": [
    "#Pitcher rolling game points allowed vs points allowed that game\n",
    "plt.figure(figsize=(15,3))\n",
    "p1_rgs = raw_data.query(\"pitcher1_rgs.notnull()\", engine = 'python')\n",
    "plt.hist2d(p1_rgs[\"pitcher1_rgs\"], p1_rgs[\"score2\"], bins=(40,30), density=True, cmap=plt.cm.jet)\n",
    "plt.show()\n",
    "\n",
    "plt.figure(figsize=(15,3))\n",
    "p2_rgs = raw_data.query(\"pitcher2_rgs.notnull()\", engine = 'python')\n",
    "plt.hist2d(p1_rgs[\"pitcher2_rgs\"], p1_rgs[\"score1\"], bins=(40,30), density=True, cmap=plt.cm.jet)\n",
    "plt.show()"
   ]
  },
  {
   "cell_type": "markdown",
   "metadata": {},
   "source": [
    "## Features to engineer & Formatting\n",
    "It'd be great to grab data like win streak, meta-analysis of 538's rating system, or even external data relating to the teams over time, but lets just start by adding a data like point differential, and point ratio "
   ]
  },
  {
   "cell_type": "code",
   "execution_count": 7,
   "metadata": {},
   "outputs": [],
   "source": [
    "eng = raw_data.copy()\n",
    "\n",
    "# Simple encoding of playoff data\n",
    "eng[\"playoff\"] = eng[\"playoff\"].map({'w':1, 'l':2, 'd':3, 'c':4, np.nan:5})\n",
    "\n",
    "# Encode the team and player names\n",
    "# eng = pd.get_dummies(eng, columns = [\"team1\", 'team2','pitcher1','pitcher2'], sparse = True) This is too much data to encode\n",
    "eng = pd.get_dummies(eng, columns = [\"team1\", 'team2'], sparse = True)\n",
    "\n",
    "# Add a relative score column\n",
    "eng['delta'] = eng['score1']-eng['score2']\n",
    "eng['ratio'] = eng['delta'] / (eng['score1'] + eng['score2'])"
   ]
  },
  {
   "cell_type": "code",
   "execution_count": 8,
   "metadata": {},
   "outputs": [
    {
     "data": {
      "text/html": [
       "<div>\n",
       "<style scoped>\n",
       "    .dataframe tbody tr th:only-of-type {\n",
       "        vertical-align: middle;\n",
       "    }\n",
       "\n",
       "    .dataframe tbody tr th {\n",
       "        vertical-align: top;\n",
       "    }\n",
       "\n",
       "    .dataframe thead th {\n",
       "        text-align: right;\n",
       "    }\n",
       "</style>\n",
       "<table border=\"1\" class=\"dataframe\">\n",
       "  <thead>\n",
       "    <tr style=\"text-align: right;\">\n",
       "      <th></th>\n",
       "      <th>date</th>\n",
       "      <th>season</th>\n",
       "      <th>neutral</th>\n",
       "      <th>playoff</th>\n",
       "      <th>elo1_pre</th>\n",
       "      <th>elo2_pre</th>\n",
       "      <th>elo_prob1</th>\n",
       "      <th>elo_prob2</th>\n",
       "      <th>elo1_post</th>\n",
       "      <th>elo2_post</th>\n",
       "      <th>...</th>\n",
       "      <th>team2_SDP</th>\n",
       "      <th>team2_SEA</th>\n",
       "      <th>team2_SFG</th>\n",
       "      <th>team2_STL</th>\n",
       "      <th>team2_TBD</th>\n",
       "      <th>team2_TEX</th>\n",
       "      <th>team2_TOR</th>\n",
       "      <th>team2_WSN</th>\n",
       "      <th>delta</th>\n",
       "      <th>ratio</th>\n",
       "    </tr>\n",
       "  </thead>\n",
       "  <tbody>\n",
       "    <tr>\n",
       "      <td>0</td>\n",
       "      <td>737362</td>\n",
       "      <td>2019</td>\n",
       "      <td>0</td>\n",
       "      <td>1</td>\n",
       "      <td>1599.542804</td>\n",
       "      <td>1584.363378</td>\n",
       "      <td>0.574617</td>\n",
       "      <td>0.425383</td>\n",
       "      <td>1594.882297</td>\n",
       "      <td>1589.023885</td>\n",
       "      <td>...</td>\n",
       "      <td>0</td>\n",
       "      <td>0</td>\n",
       "      <td>0</td>\n",
       "      <td>0</td>\n",
       "      <td>0</td>\n",
       "      <td>0</td>\n",
       "      <td>0</td>\n",
       "      <td>1</td>\n",
       "      <td>-4</td>\n",
       "      <td>-0.500000</td>\n",
       "    </tr>\n",
       "    <tr>\n",
       "      <td>1</td>\n",
       "      <td>737361</td>\n",
       "      <td>2019</td>\n",
       "      <td>0</td>\n",
       "      <td>1</td>\n",
       "      <td>1605.069000</td>\n",
       "      <td>1578.837182</td>\n",
       "      <td>0.595209</td>\n",
       "      <td>0.404791</td>\n",
       "      <td>1599.542804</td>\n",
       "      <td>1584.363378</td>\n",
       "      <td>...</td>\n",
       "      <td>0</td>\n",
       "      <td>0</td>\n",
       "      <td>0</td>\n",
       "      <td>0</td>\n",
       "      <td>0</td>\n",
       "      <td>0</td>\n",
       "      <td>0</td>\n",
       "      <td>1</td>\n",
       "      <td>-5</td>\n",
       "      <td>-0.555556</td>\n",
       "    </tr>\n",
       "    <tr>\n",
       "      <td>2</td>\n",
       "      <td>737359</td>\n",
       "      <td>2019</td>\n",
       "      <td>0</td>\n",
       "      <td>1</td>\n",
       "      <td>1584.005206</td>\n",
       "      <td>1599.900976</td>\n",
       "      <td>0.515546</td>\n",
       "      <td>0.484454</td>\n",
       "      <td>1578.837182</td>\n",
       "      <td>1605.069000</td>\n",
       "      <td>...</td>\n",
       "      <td>0</td>\n",
       "      <td>0</td>\n",
       "      <td>0</td>\n",
       "      <td>0</td>\n",
       "      <td>0</td>\n",
       "      <td>0</td>\n",
       "      <td>0</td>\n",
       "      <td>0</td>\n",
       "      <td>-6</td>\n",
       "      <td>-0.750000</td>\n",
       "    </tr>\n",
       "    <tr>\n",
       "      <td>3</td>\n",
       "      <td>737358</td>\n",
       "      <td>2019</td>\n",
       "      <td>0</td>\n",
       "      <td>1</td>\n",
       "      <td>1589.985555</td>\n",
       "      <td>1593.920627</td>\n",
       "      <td>0.538425</td>\n",
       "      <td>0.461575</td>\n",
       "      <td>1584.005206</td>\n",
       "      <td>1599.900976</td>\n",
       "      <td>...</td>\n",
       "      <td>0</td>\n",
       "      <td>0</td>\n",
       "      <td>0</td>\n",
       "      <td>0</td>\n",
       "      <td>0</td>\n",
       "      <td>0</td>\n",
       "      <td>0</td>\n",
       "      <td>0</td>\n",
       "      <td>-7</td>\n",
       "      <td>-0.777778</td>\n",
       "    </tr>\n",
       "    <tr>\n",
       "      <td>4</td>\n",
       "      <td>737357</td>\n",
       "      <td>2019</td>\n",
       "      <td>0</td>\n",
       "      <td>1</td>\n",
       "      <td>1593.827376</td>\n",
       "      <td>1590.078806</td>\n",
       "      <td>0.553044</td>\n",
       "      <td>0.446956</td>\n",
       "      <td>1589.985555</td>\n",
       "      <td>1593.920627</td>\n",
       "      <td>...</td>\n",
       "      <td>0</td>\n",
       "      <td>0</td>\n",
       "      <td>0</td>\n",
       "      <td>0</td>\n",
       "      <td>0</td>\n",
       "      <td>0</td>\n",
       "      <td>0</td>\n",
       "      <td>0</td>\n",
       "      <td>-3</td>\n",
       "      <td>-0.600000</td>\n",
       "    </tr>\n",
       "  </tbody>\n",
       "</table>\n",
       "<p>5 rows × 86 columns</p>\n",
       "</div>"
      ],
      "text/plain": [
       "     date  season  neutral  playoff     elo1_pre     elo2_pre  elo_prob1  \\\n",
       "0  737362    2019        0        1  1599.542804  1584.363378   0.574617   \n",
       "1  737361    2019        0        1  1605.069000  1578.837182   0.595209   \n",
       "2  737359    2019        0        1  1584.005206  1599.900976   0.515546   \n",
       "3  737358    2019        0        1  1589.985555  1593.920627   0.538425   \n",
       "4  737357    2019        0        1  1593.827376  1590.078806   0.553044   \n",
       "\n",
       "   elo_prob2    elo1_post    elo2_post  ...  team2_SDP  team2_SEA team2_SFG  \\\n",
       "0   0.425383  1594.882297  1589.023885  ...          0          0         0   \n",
       "1   0.404791  1599.542804  1584.363378  ...          0          0         0   \n",
       "2   0.484454  1578.837182  1605.069000  ...          0          0         0   \n",
       "3   0.461575  1584.005206  1599.900976  ...          0          0         0   \n",
       "4   0.446956  1589.985555  1593.920627  ...          0          0         0   \n",
       "\n",
       "  team2_STL  team2_TBD  team2_TEX  team2_TOR  team2_WSN  delta     ratio  \n",
       "0         0          0          0          0          1     -4 -0.500000  \n",
       "1         0          0          0          0          1     -5 -0.555556  \n",
       "2         0          0          0          0          0     -6 -0.750000  \n",
       "3         0          0          0          0          0     -7 -0.777778  \n",
       "4         0          0          0          0          0     -3 -0.600000  \n",
       "\n",
       "[5 rows x 86 columns]"
      ]
     },
     "execution_count": 8,
     "metadata": {},
     "output_type": "execute_result"
    }
   ],
   "source": [
    "eng.head()"
   ]
  },
  {
   "cell_type": "code",
   "execution_count": 9,
   "metadata": {},
   "outputs": [],
   "source": [
    "#Useful testing functions\n",
    "def test(name, m, xs, ys, args = []):\n",
    "    m1 = m(*args)\n",
    "    m2 = m(*args)\n",
    "    x_train, x_test, y_train, y_test = train_test_split(xs, ys, test_size=0.20, random_state=27)\n",
    "    m1.fit(x_train, y_train[\"score1\"])\n",
    "    m2.fit(x_train, y_train[\"score2\"])\n",
    "    pred1 = m1.predict(x_test)\n",
    "    pred2 = m2.predict(x_test)\n",
    "    accuracy1 = r2_score(y_test[\"score1\"], pred1, multioutput='uniform_average')\n",
    "    accuracy2 = r2_score(y_test[\"score2\"], pred2, multioutput='uniform_average')\n",
    "    #accuracy = m.score(x_test, y_test)\n",
    "    print(f'{name}:\\n\\tR^2 on Score 1: {accuracy1}\\n\\tR^2 on Score 2: {accuracy2}')\n",
    "    \n",
    "def run_tests(xs, ys):\n",
    "    test(\"Linear Regression\", LinearRegression, xs, ys)\n",
    "    test(\"Random Forest\", RandomForestRegressor, xs, ys, [100])\n",
    "    test(\"Gradient Boosting\", GradientBoostingRegressor, xs, ys)\n",
    "    test(\"MLP Regressor\", MLPRegressor, xs, ys) #This is doing comically bad"
   ]
  },
  {
   "cell_type": "markdown",
   "metadata": {},
   "source": [
    "## Model Fitting\n",
    "We'll try 4 different regressors here:\n",
    "Linear Regression, Random Forrest Regressor, Gradient Boost Regressor, and MLP Regressor"
   ]
  },
  {
   "cell_type": "code",
   "execution_count": 10,
   "metadata": {},
   "outputs": [
    {
     "name": "stdout",
     "output_type": "stream",
     "text": [
      "Linear Regression:\n",
      "\tR^2 on Score 1: 0.49552681785982333\n",
      "\tR^2 on Score 2: 0.3908444504362646\n",
      "Random Forest:\n",
      "\tR^2 on Score 1: 0.9328645644564414\n",
      "\tR^2 on Score 2: 0.9409343618879545\n",
      "Gradient Boosting:\n",
      "\tR^2 on Score 1: 0.9242601568282665\n",
      "\tR^2 on Score 2: 0.9350371653411743\n",
      "MLP Regressor:\n",
      "\tR^2 on Score 1: -12.674672685903145\n",
      "\tR^2 on Score 2: -15.67430487350974\n"
     ]
    }
   ],
   "source": [
    "xs = eng.drop([\"score1\",\"score2\",'pitcher1','pitcher2'], axis = 1)\n",
    "ys = eng[[\"score1\",\"score2\"]]\n",
    "run_tests(xs, ys) # Has access to score delta and score ratios"
   ]
  },
  {
   "cell_type": "markdown",
   "metadata": {},
   "source": [
    "## Analysis\n",
    "It seems that including both the score delta and the ratio of the delta to total score provide too much info to the random forest and gradient boost models.  Let's try removing one or the other and viewing the results.\n",
    "\n",
    "## Round 2\n",
    "Let's try a few more runs with different levels of data available"
   ]
  },
  {
   "cell_type": "code",
   "execution_count": 11,
   "metadata": {},
   "outputs": [
    {
     "name": "stdout",
     "output_type": "stream",
     "text": [
      "Linear Regression:\n",
      "\tR^2 on Score 1: 0.40363453044690456\n",
      "\tR^2 on Score 2: 0.3863882584252267\n",
      "Random Forest:\n",
      "\tR^2 on Score 1: 0.593451590612277\n",
      "\tR^2 on Score 2: 0.6054820831093057\n",
      "Gradient Boosting:\n",
      "\tR^2 on Score 1: 0.5614464653601905\n",
      "\tR^2 on Score 2: 0.6048469917217383\n",
      "MLP Regressor:\n",
      "\tR^2 on Score 1: -9.936551148360762\n",
      "\tR^2 on Score 2: -26.073128961338732\n"
     ]
    }
   ],
   "source": [
    "xs = eng.drop([\"score1\",\"score2\",'pitcher1','pitcher2','delta'], axis = 1)\n",
    "ys = eng[[\"score1\",\"score2\"]]\n",
    "run_tests(xs, ys) # No delta, gradient boost & random forest are still doing well"
   ]
  },
  {
   "cell_type": "code",
   "execution_count": 12,
   "metadata": {},
   "outputs": [
    {
     "name": "stdout",
     "output_type": "stream",
     "text": [
      "Linear Regression:\n",
      "\tR^2 on Score 1: 0.49573662407459274\n",
      "\tR^2 on Score 2: 0.39109779317881\n",
      "Random Forest:\n",
      "\tR^2 on Score 1: 0.5113283257239885\n",
      "\tR^2 on Score 2: 0.46605255944556057\n",
      "Gradient Boosting:\n",
      "\tR^2 on Score 1: 0.5165469207072275\n",
      "\tR^2 on Score 2: 0.4580574733699585\n",
      "MLP Regressor:\n",
      "\tR^2 on Score 1: -80.82589590055035\n",
      "\tR^2 on Score 2: -22.030454992983053\n"
     ]
    }
   ],
   "source": [
    "xs = eng.drop([\"score1\",\"score2\",'pitcher1','pitcher2','ratio'], axis = 1)\n",
    "ys = eng[[\"score1\",\"score2\"]]\n",
    "run_tests(xs, ys) # No ratio, gradient boost & random forest are still doing well"
   ]
  },
  {
   "cell_type": "code",
   "execution_count": 13,
   "metadata": {},
   "outputs": [
    {
     "name": "stdout",
     "output_type": "stream",
     "text": [
      "Linear Regression:\n",
      "\tR^2 on Score 1: 0.40322523160332013\n",
      "\tR^2 on Score 2: 0.3867501884443799\n",
      "Random Forest:\n",
      "\tR^2 on Score 1: 0.37401787127246844\n",
      "\tR^2 on Score 2: 0.3105177683250283\n",
      "Gradient Boosting:\n",
      "\tR^2 on Score 1: 0.3052773814614764\n",
      "\tR^2 on Score 2: 0.2736657666658202\n",
      "MLP Regressor:\n",
      "\tR^2 on Score 1: -14.690407029508041\n",
      "\tR^2 on Score 2: -85.02351091564702\n"
     ]
    }
   ],
   "source": [
    "xs = eng.drop([\"score1\",\"score2\",'pitcher1','pitcher2','delta', 'ratio'], axis = 1)\n",
    "ys = eng[[\"score1\",\"score2\"]]\n",
    "run_tests(xs, ys) # No delta or ratio, linear only had a ~10% drop as where gradient boost and rand. forest lost ~20%"
   ]
  },
  {
   "cell_type": "markdown",
   "metadata": {},
   "source": [
    "# Conclusion\n",
    "Engineering the ratio and delta of the scores may have provided too much data about the score back to the algorithms which could do something with it (random forest and gradient boost).  After some analysis through more tests, we were able to see just how much those two pieces of data actually provided. (The multilayer perceptron did terribly with the default settings, but increasing the layer count or width may help)\n",
    "\n",
    "Moving forward, it would be awesome to try and engineer this to only predict games going forward, rather than a random sample distributed through out the dataset.  That would be more useful in sports today."
   ]
  }
 ],
 "metadata": {
  "kernelspec": {
   "display_name": "Python 3",
   "language": "python",
   "name": "python3"
  },
  "language_info": {
   "codemirror_mode": {
    "name": "ipython",
    "version": 3
   },
   "file_extension": ".py",
   "mimetype": "text/x-python",
   "name": "python",
   "nbconvert_exporter": "python",
   "pygments_lexer": "ipython3",
   "version": "3.7.4"
  }
 },
 "nbformat": 4,
 "nbformat_minor": 2
}
